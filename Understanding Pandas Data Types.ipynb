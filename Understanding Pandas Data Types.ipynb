{
 "cells": [
  {
   "cell_type": "code",
   "execution_count": 4,
   "metadata": {},
   "outputs": [],
   "source": [
    "import pandas as pd\n",
    "file_name = \"https://people.sc.fsu.edu/~jburkardt/data/csv/homes.csv\"\n",
    "df = pd.read_csv(file_name)"
   ]
  },
  {
   "cell_type": "code",
   "execution_count": 5,
   "metadata": {},
   "outputs": [],
   "source": [
    "df['Grouping'] = df[' \"Baths\"'] > df[' \"Beds\"']\n",
    "df[' \"Baths\"'] = df[' \"Baths\"'].astype(str)\n",
    "df[' \"Beds\"'] = df[' \"Beds\"'].astype('category')"
   ]
  },
  {
   "cell_type": "code",
   "execution_count": 6,
   "metadata": {},
   "outputs": [
    {
     "data": {
      "text/plain": [
       "Sell            int64\n",
       " \"List\"         int64\n",
       " \"Living\"       int64\n",
       " \"Rooms\"        int64\n",
       " \"Beds\"      category\n",
       " \"Baths\"       object\n",
       " \"Age\"          int64\n",
       " \"Acres\"      float64\n",
       " \"Taxes\"        int64\n",
       "Grouping         bool\n",
       "dtype: object"
      ]
     },
     "execution_count": 6,
     "metadata": {},
     "output_type": "execute_result"
    }
   ],
   "source": [
    "df.dtypes"
   ]
  },
  {
   "cell_type": "code",
   "execution_count": 7,
   "metadata": {},
   "outputs": [
    {
     "data": {
      "text/html": [
       "<div>\n",
       "<style scoped>\n",
       "    .dataframe tbody tr th:only-of-type {\n",
       "        vertical-align: middle;\n",
       "    }\n",
       "\n",
       "    .dataframe tbody tr th {\n",
       "        vertical-align: top;\n",
       "    }\n",
       "\n",
       "    .dataframe thead th {\n",
       "        text-align: right;\n",
       "    }\n",
       "</style>\n",
       "<table border=\"1\" class=\"dataframe\">\n",
       "  <thead>\n",
       "    <tr style=\"text-align: right;\">\n",
       "      <th></th>\n",
       "      <th>Sell</th>\n",
       "      <th>\"List\"</th>\n",
       "      <th>\"Living\"</th>\n",
       "      <th>\"Rooms\"</th>\n",
       "      <th>\"Age\"</th>\n",
       "      <th>\"Acres\"</th>\n",
       "      <th>\"Taxes\"</th>\n",
       "    </tr>\n",
       "  </thead>\n",
       "  <tbody>\n",
       "    <tr>\n",
       "      <th>count</th>\n",
       "      <td>50.000000</td>\n",
       "      <td>50.000000</td>\n",
       "      <td>50.000000</td>\n",
       "      <td>50.000000</td>\n",
       "      <td>50.000000</td>\n",
       "      <td>50.000000</td>\n",
       "      <td>50.000000</td>\n",
       "    </tr>\n",
       "    <tr>\n",
       "      <th>mean</th>\n",
       "      <td>170.360000</td>\n",
       "      <td>178.340000</td>\n",
       "      <td>21.120000</td>\n",
       "      <td>8.060000</td>\n",
       "      <td>30.220000</td>\n",
       "      <td>1.020600</td>\n",
       "      <td>3706.100000</td>\n",
       "    </tr>\n",
       "    <tr>\n",
       "      <th>std</th>\n",
       "      <td>72.755885</td>\n",
       "      <td>79.382723</td>\n",
       "      <td>8.351072</td>\n",
       "      <td>1.284285</td>\n",
       "      <td>30.962314</td>\n",
       "      <td>1.191496</td>\n",
       "      <td>1579.915268</td>\n",
       "    </tr>\n",
       "    <tr>\n",
       "      <th>min</th>\n",
       "      <td>87.000000</td>\n",
       "      <td>90.000000</td>\n",
       "      <td>10.000000</td>\n",
       "      <td>5.000000</td>\n",
       "      <td>2.000000</td>\n",
       "      <td>0.220000</td>\n",
       "      <td>1445.000000</td>\n",
       "    </tr>\n",
       "    <tr>\n",
       "      <th>25%</th>\n",
       "      <td>135.000000</td>\n",
       "      <td>140.000000</td>\n",
       "      <td>17.000000</td>\n",
       "      <td>7.000000</td>\n",
       "      <td>12.250000</td>\n",
       "      <td>0.382500</td>\n",
       "      <td>3107.000000</td>\n",
       "    </tr>\n",
       "    <tr>\n",
       "      <th>50%</th>\n",
       "      <td>152.000000</td>\n",
       "      <td>160.000000</td>\n",
       "      <td>20.000000</td>\n",
       "      <td>8.000000</td>\n",
       "      <td>24.500000</td>\n",
       "      <td>0.550000</td>\n",
       "      <td>3490.000000</td>\n",
       "    </tr>\n",
       "    <tr>\n",
       "      <th>75%</th>\n",
       "      <td>182.250000</td>\n",
       "      <td>190.000000</td>\n",
       "      <td>22.750000</td>\n",
       "      <td>9.000000</td>\n",
       "      <td>37.000000</td>\n",
       "      <td>1.182500</td>\n",
       "      <td>3919.250000</td>\n",
       "    </tr>\n",
       "    <tr>\n",
       "      <th>max</th>\n",
       "      <td>567.000000</td>\n",
       "      <td>625.000000</td>\n",
       "      <td>64.000000</td>\n",
       "      <td>12.000000</td>\n",
       "      <td>202.000000</td>\n",
       "      <td>6.490000</td>\n",
       "      <td>12192.000000</td>\n",
       "    </tr>\n",
       "  </tbody>\n",
       "</table>\n",
       "</div>"
      ],
      "text/plain": [
       "             Sell      \"List\"   \"Living\"    \"Rooms\"       \"Age\"    \"Acres\"  \\\n",
       "count   50.000000   50.000000  50.000000  50.000000   50.000000  50.000000   \n",
       "mean   170.360000  178.340000  21.120000   8.060000   30.220000   1.020600   \n",
       "std     72.755885   79.382723   8.351072   1.284285   30.962314   1.191496   \n",
       "min     87.000000   90.000000  10.000000   5.000000    2.000000   0.220000   \n",
       "25%    135.000000  140.000000  17.000000   7.000000   12.250000   0.382500   \n",
       "50%    152.000000  160.000000  20.000000   8.000000   24.500000   0.550000   \n",
       "75%    182.250000  190.000000  22.750000   9.000000   37.000000   1.182500   \n",
       "max    567.000000  625.000000  64.000000  12.000000  202.000000   6.490000   \n",
       "\n",
       "            \"Taxes\"  \n",
       "count     50.000000  \n",
       "mean    3706.100000  \n",
       "std     1579.915268  \n",
       "min     1445.000000  \n",
       "25%     3107.000000  \n",
       "50%     3490.000000  \n",
       "75%     3919.250000  \n",
       "max    12192.000000  "
      ]
     },
     "execution_count": 7,
     "metadata": {},
     "output_type": "execute_result"
    }
   ],
   "source": [
    "#Used for int64 and float64 based data types\n",
    "df.describe()"
   ]
  },
  {
   "cell_type": "code",
   "execution_count": 8,
   "metadata": {},
   "outputs": [
    {
     "name": "stdout",
     "output_type": "stream",
     "text": [
      "<class 'pandas.core.frame.DataFrame'>\n",
      "RangeIndex: 50 entries, 0 to 49\n",
      "Data columns (total 10 columns):\n",
      "Sell         50 non-null int64\n",
      " \"List\"      50 non-null int64\n",
      " \"Living\"    50 non-null int64\n",
      " \"Rooms\"     50 non-null int64\n",
      " \"Beds\"      50 non-null category\n",
      " \"Baths\"     50 non-null object\n",
      " \"Age\"       50 non-null int64\n",
      " \"Acres\"     50 non-null float64\n",
      " \"Taxes\"     50 non-null int64\n",
      "Grouping     50 non-null bool\n",
      "dtypes: bool(1), category(1), float64(1), int64(6), object(1)\n",
      "memory usage: 3.5+ KB\n"
     ]
    }
   ],
   "source": [
    "df.info()"
   ]
  },
  {
   "cell_type": "code",
   "execution_count": 9,
   "metadata": {},
   "outputs": [],
   "source": [
    "df[' \"Baths\"'] = df[' \"Baths\"'].astype(float)\n",
    "df[' \"Beds\"'] = df[' \"Beds\"'].astype(int)"
   ]
  },
  {
   "cell_type": "code",
   "execution_count": 10,
   "metadata": {},
   "outputs": [
    {
     "name": "stdout",
     "output_type": "stream",
     "text": [
      "<class 'pandas.core.frame.DataFrame'>\n",
      "RangeIndex: 50 entries, 0 to 49\n",
      "Data columns (total 10 columns):\n",
      "Sell         50 non-null int64\n",
      " \"List\"      50 non-null int64\n",
      " \"Living\"    50 non-null int64\n",
      " \"Rooms\"     50 non-null int64\n",
      " \"Beds\"      50 non-null int64\n",
      " \"Baths\"     50 non-null float64\n",
      " \"Age\"       50 non-null int64\n",
      " \"Acres\"     50 non-null float64\n",
      " \"Taxes\"     50 non-null int64\n",
      "Grouping     50 non-null bool\n",
      "dtypes: bool(1), float64(2), int64(7)\n",
      "memory usage: 3.6 KB\n"
     ]
    }
   ],
   "source": [
    "df.info()"
   ]
  },
  {
   "cell_type": "code",
   "execution_count": null,
   "metadata": {},
   "outputs": [],
   "source": []
  }
 ],
 "metadata": {
  "kernelspec": {
   "display_name": "Python 2",
   "language": "python",
   "name": "python2"
  },
  "language_info": {
   "codemirror_mode": {
    "name": "ipython",
    "version": 2
   },
   "file_extension": ".py",
   "mimetype": "text/x-python",
   "name": "python",
   "nbconvert_exporter": "python",
   "pygments_lexer": "ipython2",
   "version": "2.7.16"
  }
 },
 "nbformat": 4,
 "nbformat_minor": 2
}
