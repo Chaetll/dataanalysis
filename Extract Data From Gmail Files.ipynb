{
 "cells": [
  {
   "cell_type": "code",
   "execution_count": 1,
   "metadata": {},
   "outputs": [],
   "source": [
    "import pandas as pd\n",
    "import datetime, os, glob\n",
    "import email, imaplib"
   ]
  },
  {
   "cell_type": "code",
   "execution_count": 2,
   "metadata": {},
   "outputs": [],
   "source": [
    "cwd = os.getcwd()\n",
    "\n",
    "EMAIL_UN = 'EMAIL'\n",
    "EMAIL_PW = 'GOOGLE APP PROVIDED PASSWORD'"
   ]
  },
  {
   "cell_type": "code",
   "execution_count": 4,
   "metadata": {},
   "outputs": [],
   "source": [
    "subject_header = \"Google Analytics: Channels\""
   ]
  },
  {
   "cell_type": "code",
   "execution_count": null,
   "metadata": {},
   "outputs": [],
   "source": []
  },
  {
   "cell_type": "code",
   "execution_count": 5,
   "metadata": {},
   "outputs": [],
   "source": [
    "def details(subject_header,date=(datetime.datetime.now()-datetime.timedelta(1)).strftime(\"%d-%b-%Y\")):\n",
    "    #EMAIL SEARCH CRITERIA\n",
    "    search_criteria = '(ON '+date+' SUBJECT \"'+subject_header+'\")'\n",
    "    return search_criteria"
   ]
  },
  {
   "cell_type": "code",
   "execution_count": 6,
   "metadata": {},
   "outputs": [],
   "source": [
    "def attachment_download(SUBJECT):\n",
    "    un = EMAIL_UN\n",
    "    pw = EMAIL_PW\n",
    "    url = 'imap.gmail.com'\n",
    "\n",
    "    detach_dir = '.' # directory where to save attachments (default: current)\n",
    "    # connecting to the gmail imap server\n",
    "    m = imaplib.IMAP4_SSL(url,993)\n",
    "    m.login(un,pw)\n",
    "    m.select() \n",
    "    resp, items = m.search(None, SUBJECT)\n",
    "    # you could filter using the IMAP rules here (check http://www.example-code.com/csharp/imap-search-critera.asp)\n",
    "    \n",
    "    items = items[0].split() # getting the mails id\n",
    "    \n",
    "    for emailid in items:\n",
    "        resp, data = m.fetch(emailid, \"(RFC822)\") # fetching the mail, \"`(RFC822)`\" means \"get the whole stuff\", but you can ask for headers only, etc\n",
    "        email_body = data[0][1] # getting the mail content\n",
    "        mail = email.message_from_string(str(email_body)) # parsing the mail content to get a mail object\n",
    "    \n",
    "        #Check if any attachments at all\n",
    "        if mail.get_content_maintype() != 'multipart':\n",
    "            continue\n",
    "    \n",
    "        print(\"[\"+mail[\"From\"]+\"] :\" + mail[\"Subject\"])\n",
    "    \n",
    "        # we use walk to create a generator so we can iterate on the parts and forget about the recursive headach\n",
    "        for part in mail.walk():\n",
    "            # multipart are just containers, so we skip them\n",
    "            if part.get_content_maintype() == 'multipart':\n",
    "                continue\n",
    "    \n",
    "            # is this part an attachment:\n",
    "            if part.get('Content-Disposition') is None:\n",
    "                continue\n",
    "    \n",
    "            filename = part.get_filename()\n",
    "            counter = 1\n",
    "    \n",
    "            # if there is no filename, we create one with a counter to avoid duplicates\n",
    "            if not filename:\n",
    "                filename = 'part-%03d%s' % (counter, 'bin')\n",
    "                counter += 1\n",
    "    \n",
    "            att_path = os.path.join(detach_dir, filename)\n",
    "    \n",
    "            #Check if its already there\n",
    "            if not os.path.isfile(att_path):\n",
    "                # finally write the stuff\n",
    "                fp = open(att_path, 'wb')\n",
    "                fp.write(part.get_payload(decode=True))\n",
    "                fp.close()\n",
    "        print(str(filename)+ ' downloaded')\n",
    "        return filename"
   ]
  },
  {
   "cell_type": "code",
   "execution_count": 7,
   "metadata": {},
   "outputs": [],
   "source": [
    "def open_csv_file(file_name):\n",
    "    #WIP - GET EMAIL ALERT TIME DOWN\n",
    "    #READ FILE\n",
    "    df = pd.read_csv(os.getcwd()+\"/\"+file_name,encoding='utf-8',skiprows=9)\n",
    "    return df"
   ]
  },
  {
   "cell_type": "code",
   "execution_count": 8,
   "metadata": {},
   "outputs": [
    {
     "name": "stdout",
     "output_type": "stream",
     "text": [
      "(ON 25-Oct-2019 SUBJECT \"Google Analytics: Channels\")\n"
     ]
    }
   ],
   "source": [
    "i = 30\n",
    "c = details(subject_header,date=(datetime.datetime.now()-datetime.timedelta(i)).strftime(\"%d-%b-%Y\"))\n",
    "print(c)"
   ]
  },
  {
   "cell_type": "code",
   "execution_count": 9,
   "metadata": {},
   "outputs": [
    {
     "name": "stdout",
     "output_type": "stream",
     "text": [
      "None\n"
     ]
    }
   ],
   "source": [
    "file_name = attachment_download(c)\n",
    "print(file_name)"
   ]
  },
  {
   "cell_type": "code",
   "execution_count": 22,
   "metadata": {},
   "outputs": [
    {
     "ename": "TypeError",
     "evalue": "can only concatenate str (not \"NoneType\") to str",
     "output_type": "error",
     "traceback": [
      "\u001b[0;31m---------------------------------------------------------------------------\u001b[0m",
      "\u001b[0;31mTypeError\u001b[0m                                 Traceback (most recent call last)",
      "\u001b[0;32m<ipython-input-22-3c63897140f9>\u001b[0m in \u001b[0;36m<module>\u001b[0;34m\u001b[0m\n\u001b[0;32m----> 1\u001b[0;31m \u001b[0mdf\u001b[0m \u001b[0;34m=\u001b[0m \u001b[0mopen_csv_file\u001b[0m\u001b[0;34m(\u001b[0m\u001b[0mfile_name\u001b[0m\u001b[0;34m)\u001b[0m\u001b[0;34m\u001b[0m\u001b[0;34m\u001b[0m\u001b[0m\n\u001b[0m",
      "\u001b[0;32m<ipython-input-18-00f7ab598b5d>\u001b[0m in \u001b[0;36mopen_csv_file\u001b[0;34m(file_name)\u001b[0m\n\u001b[1;32m      2\u001b[0m     \u001b[0;31m#WIP - GET EMAIL ALERT TIME DOWN\u001b[0m\u001b[0;34m\u001b[0m\u001b[0;34m\u001b[0m\u001b[0;34m\u001b[0m\u001b[0m\n\u001b[1;32m      3\u001b[0m     \u001b[0;31m#READ FILE\u001b[0m\u001b[0;34m\u001b[0m\u001b[0;34m\u001b[0m\u001b[0;34m\u001b[0m\u001b[0m\n\u001b[0;32m----> 4\u001b[0;31m     \u001b[0mdf\u001b[0m \u001b[0;34m=\u001b[0m \u001b[0mpd\u001b[0m\u001b[0;34m.\u001b[0m\u001b[0mread_csv\u001b[0m\u001b[0;34m(\u001b[0m\u001b[0mos\u001b[0m\u001b[0;34m.\u001b[0m\u001b[0mgetcwd\u001b[0m\u001b[0;34m(\u001b[0m\u001b[0;34m)\u001b[0m\u001b[0;34m+\u001b[0m\u001b[0;34m\"/\"\u001b[0m\u001b[0;34m+\u001b[0m\u001b[0mfile_name\u001b[0m\u001b[0;34m,\u001b[0m\u001b[0mencoding\u001b[0m\u001b[0;34m=\u001b[0m\u001b[0;34m'utf-8'\u001b[0m\u001b[0;34m,\u001b[0m\u001b[0mskiprows\u001b[0m\u001b[0;34m=\u001b[0m\u001b[0;36m9\u001b[0m\u001b[0;34m)\u001b[0m\u001b[0;34m\u001b[0m\u001b[0;34m\u001b[0m\u001b[0m\n\u001b[0m\u001b[1;32m      5\u001b[0m     \u001b[0;32mreturn\u001b[0m \u001b[0mdf\u001b[0m\u001b[0;34m\u001b[0m\u001b[0;34m\u001b[0m\u001b[0m\n",
      "\u001b[0;31mTypeError\u001b[0m: can only concatenate str (not \"NoneType\") to str"
     ]
    }
   ],
   "source": [
    "df = open_csv_file(file_name)"
   ]
  },
  {
   "cell_type": "code",
   "execution_count": null,
   "metadata": {},
   "outputs": [],
   "source": []
  }
 ],
 "metadata": {
  "kernelspec": {
   "display_name": "Python 3",
   "language": "python",
   "name": "python3"
  },
  "language_info": {
   "codemirror_mode": {
    "name": "ipython",
    "version": 3
   },
   "file_extension": ".py",
   "mimetype": "text/x-python",
   "name": "python",
   "nbconvert_exporter": "python",
   "pygments_lexer": "ipython3",
   "version": "3.7.3"
  }
 },
 "nbformat": 4,
 "nbformat_minor": 2
}
